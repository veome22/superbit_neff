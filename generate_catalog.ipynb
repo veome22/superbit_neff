{
 "cells": [
  {
   "cell_type": "code",
   "execution_count": 1,
   "metadata": {},
   "outputs": [],
   "source": [
    "import numpy as np\n",
    "from astropy.io import ascii\n",
    "from scipy import interpolate\n",
    "from bit_tools.mission_tools import Mission\n",
    "from mag_converter import *"
   ]
  },
  {
   "cell_type": "code",
   "execution_count": 48,
   "metadata": {},
   "outputs": [],
   "source": [
    "magcut = 26.0\n",
    "DIRECTORY = '/mnt/44868D0F868D02A2/Users/veome/Google Drive/Academics/Senior Thesis/Code/Catalog/'"
   ]
  },
  {
   "cell_type": "code",
   "execution_count": 51,
   "metadata": {},
   "outputs": [
    {
     "name": "stderr",
     "output_type": "stream",
     "text": [
      "/home/veome/anaconda2/envs/py3/lib/python3.6/site-packages/ipykernel_launcher.py:1: ConversionWarning: Some errors were detected !\n",
      "    Line #2617 (got 10 columns instead of 11)\n",
      "  \"\"\"Entry point for launching an IPython kernel.\n"
     ]
    }
   ],
   "source": [
    "cosmos = np.genfromtxt(DIRECTORY+'acs_cosmos1361.gcat_ascii', usecols=range(0,11), invalid_raise=False)"
   ]
  },
  {
   "cell_type": "code",
   "execution_count": 6,
   "metadata": {},
   "outputs": [],
   "source": [
    "# Get HST F814W Band from bit_tools\n",
    "hst = Mission(\"hst\")\n",
    "band = hst.get_bandpass(\"f814w\")\n",
    "f814w_band_response = band.r_lam\n",
    "# Change units from nm to Angstrom\n",
    "x = band.get_wavelengths() \n",
    "f814w = interpolate.interp1d(x*10, f814w_band_response(x), fill_value=\"extrapolate\")"
   ]
  },
  {
   "cell_type": "code",
   "execution_count": 7,
   "metadata": {},
   "outputs": [],
   "source": [
    "# Get SuperBIT Shape Band from bit_tools\n",
    "bit = Mission(\"superbit\")\n",
    "r_shape = bit.get_bandpass(\"shape\").r_lam\n",
    "# Change units from nm to Angstrom\n",
    "# x = bit.get_bandpass(\"shape\").get_wavelengths()\n",
    "x = np.arange(300, 1200, 1)\n",
    "sbit_shape = interpolate.interp1d(x*10, r_shape(x), fill_value=\"extrapolate\")"
   ]
  },
  {
   "cell_type": "code",
   "execution_count": 8,
   "metadata": {},
   "outputs": [],
   "source": [
    "# Elliptical Template\n",
    "elliptical_template = np.genfromtxt('galaxy_spectra_kinney96/elliptical_template.ascii', usecols=range(2), invalid_raise=False)"
   ]
  },
  {
   "cell_type": "code",
   "execution_count": 30,
   "metadata": {},
   "outputs": [],
   "source": [
    "# Starburst Template\n",
    "starburst_all = [[], [], [], [], [], []]\n",
    "for i in range(1, 7):\n",
    "    starburst_all[i-1] = np.genfromtxt('galaxy_spectra_kinney96/starb%i_template.ascii' %(i), usecols=range(2), invalid_raise=False)\n",
    "\n",
    "starburst_template = np.mean( np.array([starburst_all[0], starburst_all[1], starburst_all[2], starburst_all[3], starburst_all[4], starburst_all[5]]), axis=0 )"
   ]
  },
  {
   "cell_type": "code",
   "execution_count": 61,
   "metadata": {},
   "outputs": [
    {
     "name": "stdout",
     "output_type": "stream",
     "text": [
      "Original Catalog Size: 697594\n",
      "New Catalog Size: 389181\n"
     ]
    }
   ],
   "source": [
    "# Initialization\n",
    "cat = cosmos[cosmos[:,2] > 0]\n",
    "cat = cat[cat[:,5] <= magcut]\n",
    "length = cat.shape[0]\n",
    "width = cat.shape[1]\n",
    "\n",
    "print(\"Original Catalog Size: %i\"%cosmos.shape[0])\n",
    "print(\"New Catalog Size: %i\"%length)"
   ]
  },
  {
   "cell_type": "code",
   "execution_count": 62,
   "metadata": {},
   "outputs": [
    {
     "name": "stdout",
     "output_type": "stream",
     "text": [
      "Object 1 of 389181\n",
      "Object 10001 of 389181\n",
      "Object 20001 of 389181\n",
      "Object 30001 of 389181\n",
      "Object 40001 of 389181\n",
      "Object 50001 of 389181\n",
      "Object 60001 of 389181\n",
      "Object 70001 of 389181\n",
      "Object 80001 of 389181\n",
      "Object 90001 of 389181\n",
      "Object 100001 of 389181\n",
      "Object 110001 of 389181\n",
      "Object 120001 of 389181\n",
      "Object 130001 of 389181\n",
      "Object 140001 of 389181\n",
      "Object 150001 of 389181\n",
      "Object 160001 of 389181\n",
      "Object 170001 of 389181\n",
      "Object 180001 of 389181\n",
      "Object 190001 of 389181\n",
      "Object 200001 of 389181\n",
      "Object 210001 of 389181\n",
      "Object 220001 of 389181\n",
      "Object 230001 of 389181\n",
      "Object 240001 of 389181\n",
      "Object 250001 of 389181\n",
      "Object 260001 of 389181\n",
      "Object 270001 of 389181\n",
      "Object 280001 of 389181\n",
      "Object 290001 of 389181\n",
      "Object 300001 of 389181\n",
      "Object 310001 of 389181\n",
      "Object 320001 of 389181\n",
      "Object 330001 of 389181\n",
      "Object 340001 of 389181\n",
      "Object 350001 of 389181\n",
      "Object 360001 of 389181\n",
      "Object 370001 of 389181\n",
      "Object 380001 of 389181\n",
      "Conversion complete!\n"
     ]
    }
   ],
   "source": [
    "# Mag conversion\n",
    "mag_obs = cat[:,5]\n",
    "z = cat[:,2]\n",
    "super_e_mag = np.zeros(length)\n",
    "super_starb_mag = np.zeros(length)\n",
    "\n",
    "for i in range(length):\n",
    "    if (i%(10000) == 0):\n",
    "        print(\"Object %i of %i (%i\\%)\" %(i, length, (i//length)*100))\n",
    "        \n",
    "    super_e_mag[i], super_starb_mag[i] = stmag_conversion(mag_obs[i], z[i], f814w, sbit_shape, elliptical_template, starburst_template)    \n",
    "    \n",
    "print(\"Conversion complete!\")"
   ]
  },
  {
   "cell_type": "code",
   "execution_count": 63,
   "metadata": {},
   "outputs": [],
   "source": [
    "all_data = np.zeros((length,width+2))\n",
    "all_data[:,0:width] = cat\n",
    "all_data[:,width] =  np.around(super_e_mag, decimals=5)\n",
    "all_data[:,width+1] = np.around(super_starb_mag, decimals=5)"
   ]
  },
  {
   "cell_type": "code",
   "execution_count": 64,
   "metadata": {},
   "outputs": [],
   "source": [
    "headers = np.array(['# RA [deg]', 'Dec [deg]', 'Redshift', 'gamma1', 'gamma2', 'Magnitude', 'Weight', 'Size', 'UncorSize', 'FWHM', 'SNR_HST', 'SuperBIT E Mag', 'SuperBIT Starburst Mag'])"
   ]
  },
  {
   "cell_type": "code",
   "execution_count": 65,
   "metadata": {},
   "outputs": [],
   "source": [
    "ascii.write(all_data, 'superbit_cosmos1361_shape_mag26.gcat_ascii', delimiter=' ', format='fixed_width', names=headers, overwrite=True)"
   ]
  }
 ],
 "metadata": {
  "kernelspec": {
   "display_name": "Python 3",
   "language": "python",
   "name": "python3"
  },
  "language_info": {
   "codemirror_mode": {
    "name": "ipython",
    "version": 3
   },
   "file_extension": ".py",
   "mimetype": "text/x-python",
   "name": "python",
   "nbconvert_exporter": "python",
   "pygments_lexer": "ipython3",
   "version": "3.6.12"
  }
 },
 "nbformat": 4,
 "nbformat_minor": 4
}

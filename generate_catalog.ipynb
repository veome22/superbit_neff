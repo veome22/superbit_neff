{
 "cells": [
  {
   "cell_type": "code",
   "execution_count": 1,
   "metadata": {},
   "outputs": [
    {
     "name": "stderr",
     "output_type": "stream",
     "text": [
      "/home/veome/anaconda3/lib/python3.8/site-packages/pyds9.py:94: UserWarning: Can't locate DS9 executable. Please add the DS9 directory to your PATH and try again.\n",
      "  warnings.warn(ds9_warning)\n"
     ]
    }
   ],
   "source": [
    "import numpy as np\n",
    "from astropy import units as u\n",
    "from astropy import constants as const\n",
    "from astropy.io import ascii\n",
    "from scipy import interpolate\n",
    "from bit_tools.mission_tools import Mission\n",
    "from mag_converter import *"
   ]
  },
  {
   "cell_type": "code",
   "execution_count": 2,
   "metadata": {},
   "outputs": [],
   "source": [
    "magcut = 26.0\n",
    "DIRECTORY = '/mnt/44868D0F868D02A2/Users/veome/Google Drive/Academics/Senior Thesis/Code/Catalog/'"
   ]
  },
  {
   "cell_type": "code",
   "execution_count": 3,
   "metadata": {},
   "outputs": [
    {
     "name": "stderr",
     "output_type": "stream",
     "text": [
      "<ipython-input-3-0a010cf2ec54>:1: ConversionWarning: Some errors were detected !\n",
      "    Line #2617 (got 10 columns instead of 11)\n",
      "  cosmos = np.genfromtxt(DIRECTORY+'acs_cosmos1361.gcat_ascii', usecols=range(0,11), invalid_raise=False)\n"
     ]
    }
   ],
   "source": [
    "cosmos = np.genfromtxt(DIRECTORY+'acs_cosmos1361.gcat_ascii', usecols=range(0,11), invalid_raise=False)"
   ]
  },
  {
   "cell_type": "code",
   "execution_count": 4,
   "metadata": {},
   "outputs": [],
   "source": [
    "# Get HST F814W Band from bit_tools/bit_tools/data/missions/hst/bandpass/\n",
    "hst = Mission(\"hst\")\n",
    "band = hst.get_bandpass(\"f814w\")\n",
    "f814w_band_response = band.r_lam\n",
    "f814w_pivot = band.lam_pivot * (u.nm.to(u.AA))\n",
    "\n",
    "\n",
    "# Change units from nm to Angstrom\n",
    "# x = band.get_wavelengths() \n",
    "x = np.arange(300, 1200, 1)\n",
    "f814w = interpolate.interp1d(x*10, f814w_band_response(x), fill_value=\"extrapolate\")"
   ]
  },
  {
   "cell_type": "code",
   "execution_count": 5,
   "metadata": {},
   "outputs": [],
   "source": [
    "# Get SuperBIT Shape Band from bit_tools/bit_tools/data/missions/superbit/bandpass/\n",
    "# bit = Mission(\"superbit19\")\n",
    "# r_shape = bit.get_bandpass(\"lum\").r_lam\n",
    "\n",
    "bit = Mission(\"superbit\")\n",
    "band = bit.get_bandpass(\"shape\")\n",
    "r_shape = band.r_lam\n",
    "shape_pivot = band.lam_pivot * (u.nm.to(u.AA))\n",
    "\n",
    "\n",
    "\n",
    "# Change units from nm to Angstrom\n",
    "# x = bit.get_bandpass(\"shape\").get_wavelengths()\n",
    "x = np.arange(300, 1200, 1)\n",
    "sbit_shape = interpolate.interp1d(x*10, r_shape(x), fill_value=\"extrapolate\")"
   ]
  },
  {
   "cell_type": "code",
   "execution_count": 6,
   "metadata": {},
   "outputs": [],
   "source": [
    "# Elliptical Template\n",
    "elliptical_template = np.genfromtxt('galaxy_spectra_kinney96/elliptical_template.ascii', usecols=range(2), invalid_raise=False)"
   ]
  },
  {
   "cell_type": "code",
   "execution_count": 7,
   "metadata": {},
   "outputs": [],
   "source": [
    "# Starburst Template\n",
    "starburst_all = [[], [], [], [], [], []]\n",
    "for i in range(1, 7):\n",
    "    starburst_all[i-1] = np.genfromtxt('galaxy_spectra_kinney96/starb%i_template.ascii' %(i), usecols=range(2), invalid_raise=False)\n",
    "\n",
    "starburst_template = np.mean( np.array([starburst_all[0], starburst_all[1], starburst_all[2], starburst_all[3], starburst_all[4], starburst_all[5]]), axis=0 )"
   ]
  },
  {
   "cell_type": "code",
   "execution_count": 8,
   "metadata": {},
   "outputs": [
    {
     "name": "stdout",
     "output_type": "stream",
     "text": [
      "Original Catalog Size: 697594\n",
      "New Catalog Size: 389181\n"
     ]
    }
   ],
   "source": [
    "# Initialization\n",
    "cat = cosmos[cosmos[:,2] > 0] # redshift cut\n",
    "cat = cat[cat[:,5] <= magcut] # mag cut\n",
    "length = cat.shape[0]\n",
    "width = cat.shape[1]\n",
    "\n",
    "print(\"Original Catalog Size: %i\"%cosmos.shape[0])\n",
    "print(\"New Catalog Size: %i\"%length)"
   ]
  },
  {
   "cell_type": "code",
   "execution_count": 9,
   "metadata": {},
   "outputs": [
    {
     "name": "stdout",
     "output_type": "stream",
     "text": [
      "Object 0 of 389181 (0%)\n",
      "Object 10000 of 389181 (2%)\n",
      "Object 20000 of 389181 (5%)\n",
      "Object 30000 of 389181 (7%)\n",
      "Object 40000 of 389181 (10%)\n",
      "Object 50000 of 389181 (12%)\n",
      "Object 60000 of 389181 (15%)\n",
      "Object 70000 of 389181 (17%)\n",
      "Object 80000 of 389181 (20%)\n",
      "Object 90000 of 389181 (23%)\n",
      "Object 100000 of 389181 (25%)\n",
      "Object 110000 of 389181 (28%)\n",
      "Object 120000 of 389181 (30%)\n",
      "Object 130000 of 389181 (33%)\n",
      "Object 140000 of 389181 (35%)\n",
      "Object 150000 of 389181 (38%)\n",
      "Object 160000 of 389181 (41%)\n",
      "Object 170000 of 389181 (43%)\n",
      "Object 180000 of 389181 (46%)\n",
      "Object 190000 of 389181 (48%)\n",
      "Object 200000 of 389181 (51%)\n",
      "Object 210000 of 389181 (53%)\n",
      "Object 220000 of 389181 (56%)\n",
      "Object 230000 of 389181 (59%)\n",
      "Object 240000 of 389181 (61%)\n",
      "Object 250000 of 389181 (64%)\n",
      "Object 260000 of 389181 (66%)\n",
      "Object 270000 of 389181 (69%)\n",
      "Object 280000 of 389181 (71%)\n",
      "Object 290000 of 389181 (74%)\n",
      "Object 300000 of 389181 (77%)\n",
      "Object 310000 of 389181 (79%)\n",
      "Object 320000 of 389181 (82%)\n",
      "Object 330000 of 389181 (84%)\n",
      "Object 340000 of 389181 (87%)\n",
      "Object 350000 of 389181 (89%)\n",
      "Object 360000 of 389181 (92%)\n",
      "Object 370000 of 389181 (95%)\n",
      "Object 380000 of 389181 (97%)\n",
      "Conversion complete!\n"
     ]
    }
   ],
   "source": [
    "# Mag conversion\n",
    "z = cat[:,2]\n",
    "mag_obs = cat[:,5]\n",
    "super_e_mag = np.zeros(length)\n",
    "super_starb_mag = np.zeros(length)\n",
    "\n",
    "for i in range(length):\n",
    "    if (i%(10000) == 0):\n",
    "        percentage = int((i/length)*100)\n",
    "        print(\"Object {} of {} ({}%)\".format(i, length, percentage))\n",
    "        \n",
    "    # ST Mag Conversion    \n",
    "#     super_e_mag[i], super_starb_mag[i] = stmag_conversion(mag_obs[i], z[i], f814w, sbit_shape, elliptical_template, starburst_template)  \n",
    "    \n",
    "    # AB Mag Conversion    \n",
    "    super_e_mag[i], super_starb_mag[i] = abmag_conversion(mag_obs[i], z[i], f814w, sbit_shape, elliptical_template, starburst_template, src_pivot=f814w_pivot, target_pivot=shape_pivot)    \n",
    "    \n",
    "print(\"Conversion complete!\")"
   ]
  },
  {
   "cell_type": "code",
   "execution_count": 10,
   "metadata": {},
   "outputs": [],
   "source": [
    "all_data = np.zeros((length,width+2))\n",
    "all_data[:,0:width] = cat\n",
    "all_data[:,width] =  np.around(super_e_mag, decimals=5)\n",
    "all_data[:,width+1] = np.around(super_starb_mag, decimals=5)"
   ]
  },
  {
   "cell_type": "code",
   "execution_count": 11,
   "metadata": {},
   "outputs": [],
   "source": [
    "headers = np.array(['# RA [deg]', 'Dec [deg]', 'Redshift', 'gamma1', 'gamma2', 'Magnitude', 'Weight', 'Size', 'UncorSize', 'FWHM', 'SNR_HST', 'SuperBIT E Mag', 'SuperBIT Starburst Mag'])"
   ]
  },
  {
   "cell_type": "code",
   "execution_count": 12,
   "metadata": {},
   "outputs": [
    {
     "name": "stdout",
     "output_type": "stream",
     "text": [
      "Catalog written to superbit_cosmos1361_shape_abmag26.gcat_ascii\n"
     ]
    }
   ],
   "source": [
    "fname = 'superbit_cosmos1361_shape_abmag26.gcat_ascii'\n",
    "ascii.write(all_data, fname, delimiter=' ', format='fixed_width', names=headers, overwrite=True)\n",
    "print(\"Catalog written to {}\".format(fname))"
   ]
  },
  {
   "cell_type": "code",
   "execution_count": 13,
   "metadata": {},
   "outputs": [
    {
     "data": {
      "text/plain": [
       "27.674499560175427"
      ]
     },
     "execution_count": 13,
     "metadata": {},
     "output_type": "execute_result"
    }
   ],
   "source": [
    "np.amax(super_e_mag)"
   ]
  },
  {
   "cell_type": "code",
   "execution_count": null,
   "metadata": {},
   "outputs": [],
   "source": []
  }
 ],
 "metadata": {
  "kernelspec": {
   "display_name": "Python 3",
   "language": "python",
   "name": "python3"
  },
  "language_info": {
   "codemirror_mode": {
    "name": "ipython",
    "version": 3
   },
   "file_extension": ".py",
   "mimetype": "text/x-python",
   "name": "python",
   "nbconvert_exporter": "python",
   "pygments_lexer": "ipython3",
   "version": "3.8.5"
  },
  "toc": {
   "base_numbering": 1,
   "nav_menu": {},
   "number_sections": true,
   "sideBar": true,
   "skip_h1_title": false,
   "title_cell": "Table of Contents",
   "title_sidebar": "Contents",
   "toc_cell": false,
   "toc_position": {},
   "toc_section_display": true,
   "toc_window_display": false
  }
 },
 "nbformat": 4,
 "nbformat_minor": 4
}
